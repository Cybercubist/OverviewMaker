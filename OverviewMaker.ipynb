{
 "cells": [
  {
   "cell_type": "code",
   "execution_count": null,
   "id": "59cb73ee",
   "metadata": {},
   "outputs": [],
   "source": [
    "import dataloadFMP as dataloadFMP\n",
    "import dataloadKuCoin as dataloadKuCoin\n",
    "import funcs as funcs\n",
    "import numpy as np\n",
    "import pandas as pd"
   ]
  },
  {
   "cell_type": "code",
   "execution_count": null,
   "id": "80ebb367",
   "metadata": {},
   "outputs": [],
   "source": [
    "def Candle_Analysis (ticker, dataload):\n",
    "    \n",
    "    open_list, high_list, low_list, close_list = dataload.Load_HP(ticker)[0], dataload.Load_HP(ticker)[1], dataload.Load_HP(ticker)[2], dataload.Load_HP(ticker)[3]\n",
    "    \n",
    "    anomaly_eval = funcs.anomaly_eval(dataload.Load_HP(ticker), 25, 5)\n",
    "    \n",
    "    timeframe1 = 84\n",
    "    short_list1 = close_list[(260-timeframe1):260]\n",
    "    end_price, start_price, step = funcs.timeframe_slice(timeframe1)\n",
    "    skeleton1 = funcs.skeleton_founder(short_list1, end_price, start_price, step)\n",
    "    likelihood_dict1 = funcs.find_nature(skeleton1)[2]\n",
    "    \n",
    "    timeframe2 = 14\n",
    "    short_list2 = close_list[(260-timeframe2):260]\n",
    "    end_price, start_price, step = funcs.timeframe_slice(timeframe2)\n",
    "    skeleton2 = funcs.skeleton_founder(short_list2, end_price, start_price, step)\n",
    "    likelihood_dict2 = funcs.find_nature(skeleton2)[2]\n",
    "    \n",
    "    my_array = funcs.pl_preprocessing(open_list, high_list, low_list, close_list)\n",
    "    \n",
    "    isto_array = funcs.make_isto(my_array)\n",
    "    \n",
    "    emotion_array = funcs.final_isto(isto_array)\n",
    "    \n",
    "    #ALL OUTPUT\n",
    "    \n",
    "    minmax_list = funcs.minmax(short_list1)\n",
    "    grained_list = funcs.graining_filter(minmax_list, 20)\n",
    "    \n",
    "    df = funcs.prepare_candles(open_list, high_list, low_list, close_list)\n",
    "    \n",
    "    k1, k2, k3, k = funcs.calculate_k(likelihood_dict1, likelihood_dict2, emotion_array)\n",
    "    \n",
    "    print(k)\n",
    "    \n",
    "    return k"
   ]
  },
  {
   "cell_type": "code",
   "execution_count": null,
   "id": "b399e463",
   "metadata": {},
   "outputs": [],
   "source": [
    "fmp_ticker_list = ['CLUSD', 'NGUSD', 'GCUSD', 'SIUSD', '^IXIC', '^GSPC', '^DJU', '^HSI']\n",
    "kucoin_ticker_list = ['BTC-USDT', 'ETH-USDT']\n",
    "\n",
    "def score_loader(fmp_ticker_list, dataload):\n",
    "    \n",
    "    k_dict = {}\n",
    "    \n",
    "    for i in range (len(fmp_ticker_list)):\n",
    "        \n",
    "        k = Candle_Analysis(fmp_ticker_list[i], dataload)\n",
    "        ticker = fmp_ticker_list[i]\n",
    "        k_dict[ticker] = k\n",
    "        \n",
    "    return k_dict\n",
    "\n",
    "print(score_loader(fmp_ticker_list, dataloadFMP))\n",
    "print(score_loader(kucoin_ticker_list, dataloadKuCoin)) "
   ]
  }
 ],
 "metadata": {
  "kernelspec": {
   "display_name": "Python 3 (ipykernel)",
   "language": "python",
   "name": "python3"
  },
  "language_info": {
   "codemirror_mode": {
    "name": "ipython",
    "version": 3
   },
   "file_extension": ".py",
   "mimetype": "text/x-python",
   "name": "python",
   "nbconvert_exporter": "python",
   "pygments_lexer": "ipython3",
   "version": "3.9.15"
  }
 },
 "nbformat": 4,
 "nbformat_minor": 5
}
